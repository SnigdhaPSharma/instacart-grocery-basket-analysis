{
 "cells": [
  {
   "cell_type": "markdown",
   "id": "2fb78ecc",
   "metadata": {},
   "source": [
    "# Table of Contents\n",
    "\n",
    ">**1. Data and Libraries Import**  \n",
    "**2. Security Implications**  \n",
    "**3. Customer Behavior across Regions**  \n",
    "**4. Exclusion Flag**  \n",
    "**5. Customer Profiling**  \n",
    ">>5.1 By Age    \n",
    "         5.2 By Income      \n",
    "         5.3 By Purchases      \n",
    "5.4 By Number of Dependants  \n",
    "\n",
    ">**6. Visualizations**  \n",
    ">>6.1. Busiest days of the week  \n",
    ">>6.2. Busiest hours of the day  \n",
    ">>6.3. Expenditure vs Time of the Day  \n",
    ">>6.4. Departments with the highest frequency of product orders  \n",
    ">>6.5. Distribution among users in regards to their brand loyalty  \n",
    ">>6.6. Age-wise Brand Loyalty  \n",
    ">>6.7. Household status vs Brand Loyalty  \n",
    ">>6.8. Income vs Brand Loyalty  \n",
    ">>6.9. Brand Loyalty by Region  \n",
    ">>6.10. Department Preferences of Loyal customers  \n",
    ">>6.11. Age-group wise department preferences  \n",
    ">>6.12. Income vs Dept Preference  \n",
    ">>6.13. Household Status vs Department Preference  \n",
    ">>6.14. Region wise Department Preferences  \n",
    ">>6.15. Age-group vs Spending flag  \n",
    ">>6.16. Region wise spending trend  \n",
    ">>6.17. Age wise most active hours  \n",
    ">>6.18. Region wise most active hours  \n",
    ">>6.19. Household Status wise most active hours  \n",
    ">>6.20. Age wise most active days  \n",
    ">>6.21. Region wise most active days  \n",
    ">>6.22. Household Status wise most active days  \n",
    "\n",
    ">**7. Aggregation**  \n",
    ">>7.1. Department Re-order Frequency Aggregation    \n",
    ">>7.2. Age wise usage Aggregation  \n",
    ">>7.3. Age wise purchase Aggregation  \n",
    ">>7.4. Income wise Usage Frequency  \n",
    ">>7.5. Household Status Usage Frequency  \n",
    ">>7.6. Household Status Spending Aggregation  \n",
    ">>7.7. Departments and Price tags  \n"
   ]
  },
  {
   "cell_type": "markdown",
   "id": "3b3abf4c",
   "metadata": {},
   "source": [
    "\n",
    "## 1. Data and Libraries Import"
   ]
  },
  {
   "cell_type": "markdown",
   "id": "dd8386d4",
   "metadata": {},
   "source": [
    "**Question 1. Import the data set you exported in Exercise 4.9 into a new Jupyter notebook. This should be the merged version of your data that contains the new customers column.**"
   ]
  },
  {
   "cell_type": "code",
   "execution_count": null,
   "id": "ea72265e",
   "metadata": {},
   "outputs": [],
   "source": [
    "# Import the required libraries\n",
    "import pandas as pd\n",
    "from pandas.plotting import andrews_curves\n",
    "import numpy as np\n",
    "import os\n",
    "import matplotlib.pyplot as plt\n",
    "import seaborn as sns\n",
    "import scipy\n",
    "import plotly.graph_objects as go\n",
    "import datashader as ds"
   ]
  },
  {
   "cell_type": "code",
   "execution_count": null,
   "id": "ad156ca9",
   "metadata": {},
   "outputs": [],
   "source": [
    "# Create a Path variable \n",
    "path=r'C:\\Users\\sands\\Documents\\01-2022 Instacart Basket Analysis'"
   ]
  },
  {
   "cell_type": "code",
   "execution_count": null,
   "id": "8318e4b8",
   "metadata": {},
   "outputs": [],
   "source": [
    "# Import the orders, products and customers merged dataset\n",
    "df_merged=pd.read_pickle(os.path.join(path,'02 Data', 'Prepared Data','Instacart_data0130.pkl'))"
   ]
  },
  {
   "cell_type": "code",
   "execution_count": null,
   "id": "408ce772",
   "metadata": {},
   "outputs": [],
   "source": [
    "df_merged.head(10)"
   ]
  },
  {
   "cell_type": "markdown",
   "id": "94ee81d4",
   "metadata": {},
   "source": [
    "\n",
    "## 2. Security Implications"
   ]
  },
  {
   "cell_type": "markdown",
   "id": "ccd77093",
   "metadata": {},
   "source": [
    "**Question 2. Consider any security implications that might exist for this new data. You’ll need to address any PII data in the data before continuing your analysis.**"
   ]
  },
  {
   "cell_type": "code",
   "execution_count": null,
   "id": "4034766f",
   "metadata": {},
   "outputs": [],
   "source": [
    "# Fetch the column info\n",
    "df_merged.info()"
   ]
  },
  {
   "cell_type": "code",
   "execution_count": null,
   "id": "b7dfb989",
   "metadata": {},
   "outputs": [],
   "source": [
    "# View the first few rows and look for security implications\n",
    "df_merged.head(10)"
   ]
  },
  {
   "cell_type": "markdown",
   "id": "c009e3a0",
   "metadata": {},
   "source": [
    "**Note: The customer information in the dataframe are PII data but it is fabricated for project case. If it were actual data, it could be handled in the following ways:**\n",
    "\n",
    "**1. Encrypt the names columns**\n",
    "\n",
    "**2. Create a new subset without the names and use it for the purpose of analysis**\n",
    "\n",
    "**3. Drop the first and last name columns altogether**\n",
    "\n"
   ]
  },
  {
   "cell_type": "markdown",
   "id": "9dd756c8",
   "metadata": {},
   "source": [
    "\n",
    "## 3. Customer Behavior across Regions"
   ]
  },
  {
   "cell_type": "markdown",
   "id": "5f1eff59",
   "metadata": {},
   "source": [
    "**Question 3. The Instacart officers are interested in comparing customer behavior in different geographic areas. Create a regional segmentation of the data. You’ll need to create a “Region” column based on the “State” column from your customers data set.**\n",
    "\n",
    "**o\tUse the region information in this Wikipedia article to create your column (you only need to create regions, not divisions).**\n",
    "\n",
    "**o\tDetermine whether there’s a difference in spending habits between the different U.S. regions. (Hint: You can do this by crossing the variable you just created with the spending flag.)**"
   ]
  },
  {
   "cell_type": "code",
   "execution_count": null,
   "id": "859d2390",
   "metadata": {},
   "outputs": [],
   "source": [
    "# Check the State column frequency\n",
    "df_merged['State'].value_counts(dropna=False)"
   ]
  },
  {
   "cell_type": "code",
   "execution_count": null,
   "id": "dcaebae7",
   "metadata": {},
   "outputs": [],
   "source": [
    "# Assign the regions to seperate lists\n",
    "region1_northeast = ['Maine', 'New Hampshire', 'Vermont', 'Massachusetts', 'Rhode Island', \n",
    "                     'Connecticut', 'New York', 'Pennsylvania', 'New Jersey']\n",
    "region2_midwest = ['Wisconsin', 'Michigan', 'Illinois', 'Indiana', 'Ohio', 'North Dakota', \n",
    "                   'South Dakota', 'Nebraska', 'Kansas', 'Minnesota', 'Iowa', 'Missouri']\n",
    "region3_south = ['Delaware', 'Maryland', 'District of Columbia', 'Virginia', 'West Virginia',\n",
    "                 'North Carolina', 'South Carolina', 'Georgia', 'Florida', 'Kentucky', \n",
    "                 'Tennessee', 'Mississippi', 'Alabama','Oklahoma', 'Texas', 'Arkansas', 'Louisiana']\n",
    "region4_west = ['Idaho', 'Montana', 'Wyoming', 'Nevada', 'Utah', 'Colorado', 'Arizona', 'New Mexico', 'Alaska',\n",
    "                'Washington', 'Oregon', 'California', 'Hawaii']"
   ]
  },
  {
   "cell_type": "code",
   "execution_count": null,
   "id": "6e6ca0cb",
   "metadata": {},
   "outputs": [],
   "source": [
    "# Assign a region to each Customer based on their States\n",
    "df_merged.loc[df_merged['State'].isin(region1_northeast), 'Region'] = 'NorthEast'\n",
    "df_merged.loc[df_merged['State'].isin(region2_midwest), 'Region'] = 'MidWest'\n",
    "df_merged.loc[df_merged['State'].isin(region3_south), 'Region'] = 'South'\n",
    "df_merged.loc[df_merged['State'].isin(region4_west), 'Region'] = 'West'"
   ]
  },
  {
   "cell_type": "code",
   "execution_count": null,
   "id": "162c846f",
   "metadata": {},
   "outputs": [],
   "source": [
    "# Check the Frequency of newly assigned Region column\n",
    "df_merged['Region'].value_counts(dropna=False)"
   ]
  },
  {
   "cell_type": "code",
   "execution_count": null,
   "id": "2a62048a",
   "metadata": {},
   "outputs": [],
   "source": [
    "# Check the shape of the dataframe\n",
    "df_merged.shape"
   ]
  },
  {
   "cell_type": "code",
   "execution_count": null,
   "id": "6f50197a",
   "metadata": {},
   "outputs": [],
   "source": [
    "# Create a crosstab to check if there is a correlation between spending habits and region\n",
    "crosstab = pd.crosstab(df_merged['Region'], df_merged['spending_flag'], dropna = False)"
   ]
  },
  {
   "cell_type": "code",
   "execution_count": null,
   "id": "11b9d3d4",
   "metadata": {
    "scrolled": true
   },
   "outputs": [],
   "source": [
    "crosstab"
   ]
  },
  {
   "cell_type": "markdown",
   "id": "543f4404",
   "metadata": {},
   "source": [
    "## 4. Exclusion Flag"
   ]
  },
  {
   "cell_type": "markdown",
   "id": "7f9eb2a9",
   "metadata": {},
   "source": [
    "**Question 4. The Instacart CFO isn’t interested in customers who don’t generate much revenue for the app. Create an exclusion flag for low-activity customers (customers with less than 5 orders) and exclude them from the data. Make sure you export this sample.**"
   ]
  },
  {
   "cell_type": "code",
   "execution_count": null,
   "id": "461be8ac",
   "metadata": {},
   "outputs": [],
   "source": [
    "# Create max_order column with aggregated oder_number by customer_id \n",
    "df_merged['max_order'] = df_merged.groupby(['user_id'])['order_number'].transform(np.max)"
   ]
  },
  {
   "cell_type": "code",
   "execution_count": null,
   "id": "7b695316",
   "metadata": {},
   "outputs": [],
   "source": [
    "# Check the output\n",
    "df_merged.head(10)"
   ]
  },
  {
   "cell_type": "code",
   "execution_count": null,
   "id": "ad0410ac",
   "metadata": {},
   "outputs": [],
   "source": [
    "# Assign the customer an elimination flag if they have less than 5 orders\n",
    "df_merged.loc[df_merged['max_order'] < 5, 'elimination_flag'] = 'Low Activity'\n",
    "df_merged.loc[df_merged['max_order'] >= 5, 'elimination_flag'] = 'High Activity'"
   ]
  },
  {
   "cell_type": "code",
   "execution_count": null,
   "id": "66482414",
   "metadata": {},
   "outputs": [],
   "source": [
    "# Check the frequency of high and low activity customers\n",
    "df_merged['elimination_flag'].value_counts()"
   ]
  },
  {
   "cell_type": "code",
   "execution_count": null,
   "id": "21f1f403",
   "metadata": {},
   "outputs": [],
   "source": [
    "# Delete the max_order column\n",
    "df_1 = df_merged.drop(columns = ['max_order'])"
   ]
  },
  {
   "cell_type": "code",
   "execution_count": null,
   "id": "45f5c91b",
   "metadata": {},
   "outputs": [],
   "source": [
    "# Check the output\n",
    "df_1.info()"
   ]
  },
  {
   "cell_type": "code",
   "execution_count": null,
   "id": "f1b5651b",
   "metadata": {},
   "outputs": [],
   "source": [
    "# Export this dataset\n",
    "df_1.to_pickle(os.path.join(path, '02 Data','Prepared Data', 'Instacart_data0130.pkl'))"
   ]
  },
  {
   "cell_type": "markdown",
   "id": "213bc148",
   "metadata": {},
   "source": [
    "## 5. Customer Profiling"
   ]
  },
  {
   "cell_type": "markdown",
   "id": "fbbd133f",
   "metadata": {},
   "source": [
    "**Question 5. The marketing and business strategy units at Instacart want to create more-relevant marketing strategies for different products and are, thus, curious about customer profiling in their database. Create a profiling variable based on age, income, certain goods in the “department_id” column, and number of dependents. You might also use the “orders_day_of_the_week” and “order_hour_of_day” columns if you can think of a way they would impact customer profiles. (Hint: As an example, try thinking of what characteristics would lead you to the profile “Single adult” or “Young parent.”)**"
   ]
  },
  {
   "cell_type": "markdown",
   "id": "50628ee2",
   "metadata": {},
   "source": [
    "## - By Age:"
   ]
  },
  {
   "cell_type": "code",
   "execution_count": null,
   "id": "3e915a89",
   "metadata": {},
   "outputs": [],
   "source": [
    "# Check the Stats of Age Column\n",
    "df_1['Age'].describe()"
   ]
  },
  {
   "cell_type": "markdown",
   "id": "9777b590",
   "metadata": {},
   "source": [
    "**The stats show:**  \n",
    "Mean age : 49  \n",
    "Minimum age : 18  \n",
    "Maximum age : 81\n",
    "\n",
    "**Thus the age groups can be divided into following categories:**  \n",
    "18-29 - Emerging Adult  \n",
    "30-39 - Young Adult  \n",
    "40-59 - Middle-Aged Adult  \n",
    "60-81 - Older Adult  "
   ]
  },
  {
   "cell_type": "code",
   "execution_count": null,
   "id": "379f0e9a",
   "metadata": {},
   "outputs": [],
   "source": [
    "# Assign an age group to each customer based on this information\n",
    "df_1.loc[(df_1['Age'] >=18) & (df_1['Age'] <= 29), 'age_group'] = 'Emerging Adult'\n",
    "df_1.loc[(df_1['Age'] >=30) & (df_1['Age'] <= 39), 'age_group'] = 'Young Adult'\n",
    "df_1.loc[(df_1['Age'] >=40) & (df_1['Age'] <= 59), 'age_group'] = 'Middle-aged Adult'\n",
    "df_1.loc[df_1['Age'] >=60, 'age_group'] = 'Older Adult'"
   ]
  },
  {
   "cell_type": "code",
   "execution_count": null,
   "id": "4852a80f",
   "metadata": {},
   "outputs": [],
   "source": [
    "# Check the newly assigned age group column frequency\n",
    "df_1['age_group'].value_counts(dropna=False)"
   ]
  },
  {
   "cell_type": "markdown",
   "id": "18ed4386",
   "metadata": {},
   "source": [
    "## - By Income"
   ]
  },
  {
   "cell_type": "code",
   "execution_count": null,
   "id": "d232299a",
   "metadata": {},
   "outputs": [],
   "source": [
    "# Check the Stats of Income Column\n",
    "df_1['income'].describe()"
   ]
  },
  {
   "cell_type": "markdown",
   "id": "79b26dbd",
   "metadata": {},
   "source": [
    "**The stats show:**  \n",
    "Mean Income: 99,437  \n",
    "Maximum Income: 593,901  \n",
    "Minimum Income: 25,903  \n",
    "75th percentile: 127,912  \n",
    "\n",
    "**Based on this the customers can be divided into following categories:**  \n",
    "25,000-50,000- Low   \n",
    "50,000-100,000- Middle   \n",
    "100,000-300,000- Upper Middle   \n",
    "300,000 above- High  "
   ]
  },
  {
   "cell_type": "code",
   "execution_count": null,
   "id": "98b6f078",
   "metadata": {},
   "outputs": [],
   "source": [
    "# Based on the above classification, assign an income group to each customer\n",
    "df_1.loc[(df_1['income'] >= 25000) & (df_1['income'] <= 50000), 'Income_Category'] = 'Low'\n",
    "df_1.loc[(df_1['income'] > 50000) & (df_1['income'] <= 100000), 'Income_Category'] = 'Middle'\n",
    "df_1.loc[(df_1['income'] > 100000) & (df_1['income'] <= 300000), 'Income_Category'] = 'Upper Middle'\n",
    "df_1.loc[df_1['income'] > 300000, 'Income_Category'] = 'High'"
   ]
  },
  {
   "cell_type": "code",
   "execution_count": null,
   "id": "2a2a24c5",
   "metadata": {},
   "outputs": [],
   "source": [
    "# Check the frequency of the new column\n",
    "df_1['Income_Category'].value_counts(dropna=False)"
   ]
  },
  {
   "cell_type": "markdown",
   "id": "0e111c46",
   "metadata": {},
   "source": [
    "## - By Purchases"
   ]
  },
  {
   "cell_type": "code",
   "execution_count": null,
   "id": "71242117",
   "metadata": {},
   "outputs": [],
   "source": [
    "# Import the wrangled departments dataset\n",
    "df_dep=pd.read_csv(os.path.join(path,'02 Data','Prepared Data','Departments.csv'))"
   ]
  },
  {
   "cell_type": "code",
   "execution_count": null,
   "id": "66c17b3d",
   "metadata": {},
   "outputs": [],
   "source": [
    "# Check the imported dataframe\n",
    "df_dep.head(21)"
   ]
  },
  {
   "cell_type": "code",
   "execution_count": null,
   "id": "98bd880b",
   "metadata": {},
   "outputs": [],
   "source": [
    "# Convert the Departments dataframe to a data dictionary\n",
    "data_dict = df_dep.to_dict('index')"
   ]
  },
  {
   "cell_type": "code",
   "execution_count": null,
   "id": "14426bf5",
   "metadata": {},
   "outputs": [],
   "source": [
    "# View the data dictionary\n",
    "data_dict"
   ]
  },
  {
   "cell_type": "code",
   "execution_count": null,
   "id": "c033d2f0",
   "metadata": {},
   "outputs": [],
   "source": [
    "# Map the deparment_id column in the merged full dataframe with the name in Departments data dictionary\n",
    "df_1['department'] = df_1['department_id'].map(data_dict)"
   ]
  },
  {
   "cell_type": "code",
   "execution_count": null,
   "id": "ff44d781",
   "metadata": {},
   "outputs": [],
   "source": [
    "# Check the frequency of the new column added for the department wise analysis\n",
    "df_1C.value_counts(dropna=False)"
   ]
  },
  {
   "cell_type": "markdown",
   "id": "10b3dd8e",
   "metadata": {},
   "source": [
    "**This data can be used to furthur derive the following insights:**  \n",
    "- Based on weather a customer has purchases in the babies department they can be classified as Young Parent\n",
    "- If a customer has purchases in the pet department they can be classified as Pet Parent\n",
    "- If a customer has no purchases only in the deli,breakfast,produce,department, they are likely Vegetarian"
   ]
  },
  {
   "cell_type": "markdown",
   "id": "bfebf4b2",
   "metadata": {},
   "source": [
    "## - By Number of Dependants"
   ]
  },
  {
   "cell_type": "code",
   "execution_count": null,
   "id": "16fa4fee",
   "metadata": {},
   "outputs": [],
   "source": [
    "# Check the Stats of Income Column\n",
    "df_1['number_of_dependants'].describe()"
   ]
  },
  {
   "cell_type": "markdown",
   "id": "842d8a5f",
   "metadata": {},
   "source": [
    "**The stats show:**  \n",
    "Mean no of dependants: 2  \n",
    "Maximum no of dependants:3  \n",
    "Minimum no of dependants:0 \n"
   ]
  },
  {
   "cell_type": "code",
   "execution_count": null,
   "id": "6e99211a",
   "metadata": {},
   "outputs": [],
   "source": [
    "# Assign group based on purchases and number of dependants\n",
    "df_1.loc[df_1['number_of_dependants'] == 0, 'Household_Status'] = 'Single'\n",
    "df_1.loc[(df_1['department_id'] == 17) & (df_1['number_of_dependants'] >= 1), 'Household_Status'] = 'New Parent'\n",
    "df_1.loc[(df_1['department_id'] != 17) & (df_1['number_of_dependants'] >= 1), 'Household_Status'] = 'Older Parent'"
   ]
  },
  {
   "cell_type": "code",
   "execution_count": null,
   "id": "577647b6",
   "metadata": {},
   "outputs": [],
   "source": [
    "# Check the frequency of the household_status column\n",
    "df_1['Household_Status'].value_counts(dropna=False)"
   ]
  },
  {
   "cell_type": "code",
   "execution_count": null,
   "id": "73a0507a",
   "metadata": {},
   "outputs": [],
   "source": [
    "# Assign Flag to users who have ordered Pet supplies\n",
    "df_1.loc[df_1['department_id'] == 7, 'Pet Parent'] = 'Yes'\n",
    "df_1.loc[df_1['department_id'] != 7, 'Pet Parent'] = 'No'"
   ]
  },
  {
   "cell_type": "code",
   "execution_count": null,
   "id": "624d1fbe",
   "metadata": {},
   "outputs": [],
   "source": [
    "# Check the frequency of the Pet Parent column\n",
    "df_1['Pet Parent'].value_counts(dropna=False)"
   ]
  },
  {
   "cell_type": "markdown",
   "id": "c2588ac9",
   "metadata": {},
   "source": [
    "## 6. Visualizations"
   ]
  },
  {
   "cell_type": "markdown",
   "id": "fb9e5983",
   "metadata": {},
   "source": [
    "**1. Busiest days of the week**"
   ]
  },
  {
   "cell_type": "code",
   "execution_count": null,
   "id": "49400529",
   "metadata": {},
   "outputs": [],
   "source": [
    "#Draw a plot bar chart\n",
    "df_1['orders_day_of_week'].value_counts().plot(kind='bar', color=[ 'olive', 'lightseagreen', 'gold',\n",
    "                                                                                    'coral', 'seagreen', 'goldenrod', 'yellowgreen'] \n",
    "                                               ,figsize=(6,6),alpha=0.7, edgecolor='black')\n",
    "# Set the labels and plot title\n",
    "plt.title('Bar Plot of Busiest Days of the Week')\n",
    "plt.xlabel('Days of the Week')\n",
    "plt.ylabel('Frequency of Orders')\n",
    "plt.grid(True)\n",
    "\n",
    "# Save the plot\n",
    "plt.savefig(os.path.join(path,'04 Analysis', 'Visualizations','Task 4.10', 'busiest_day_of_week.png'))"
   ]
  },
  {
   "cell_type": "markdown",
   "id": "ec416e01",
   "metadata": {},
   "source": [
    "**2. Busiest hours of the day**"
   ]
  },
  {
   "cell_type": "code",
   "execution_count": null,
   "id": "598ebd40",
   "metadata": {},
   "outputs": [],
   "source": [
    "# Set the figure size\n",
    "plt.rcParams[\"figure.figsize\"] = [6, 6]\n",
    "\n",
    "x = df_1['order_hour_of_day']\n",
    "num_bins = 12\n",
    "\n",
    "# the histogram of the data\n",
    "n, bins, patches = plt.hist(x, num_bins, facecolor='olive', alpha=0.7, edgecolor='black')\n",
    "\n",
    "plt.xlabel('Hour of the Day')\n",
    "plt.ylabel('Order Frequency')\n",
    "plt.title('Histogram showing busiest hours of the day')\n",
    "plt.xlim(0, 24)\n",
    "plt.grid(True)\n",
    "\n",
    "# Save the histogram\n",
    "plt.savefig(os.path.join(path,'04 Analysis', 'Visualizations','Task 4.10', 'busiest_hours_of_day.png'))\n",
    "\n",
    "\n",
    "# Display the histogram\n",
    "plt.show()"
   ]
  },
  {
   "cell_type": "markdown",
   "id": "83ab4ff5",
   "metadata": {},
   "source": [
    "**3. Expenditure vs Time of the Day**"
   ]
  },
  {
   "cell_type": "code",
   "execution_count": null,
   "id": "12057db8",
   "metadata": {},
   "outputs": [],
   "source": [
    "# Create a 70/30 split data\n",
    "np.random.seed(5)"
   ]
  },
  {
   "cell_type": "code",
   "execution_count": null,
   "id": "84bccfde",
   "metadata": {},
   "outputs": [],
   "source": [
    "# Assign the random values to a list dev\n",
    "dev = np.random.rand(len(df_1)) <= 0.7"
   ]
  },
  {
   "cell_type": "code",
   "execution_count": null,
   "id": "7fd34bc7",
   "metadata": {},
   "outputs": [],
   "source": [
    "dev"
   ]
  },
  {
   "cell_type": "code",
   "execution_count": null,
   "id": "00a835ef",
   "metadata": {},
   "outputs": [],
   "source": [
    "# Divide the dataset into two categories\n",
    "big = df_1[dev]\n",
    "small = df_1[~dev]"
   ]
  },
  {
   "cell_type": "code",
   "execution_count": null,
   "id": "d52d9c64",
   "metadata": {},
   "outputs": [],
   "source": [
    "# check the length of the df dataframe\n",
    "len(df_1)"
   ]
  },
  {
   "cell_type": "code",
   "execution_count": null,
   "id": "1f01dfca",
   "metadata": {},
   "outputs": [],
   "source": [
    "# Check the sum of the length of the two subsets\n",
    "len(big) + len(small)"
   ]
  },
  {
   "cell_type": "code",
   "execution_count": null,
   "id": "141a42a0",
   "metadata": {},
   "outputs": [],
   "source": [
    "# Create a subset with only the required columns for line chart\n",
    "df_2 = small[['order_hour_of_day','prices']]"
   ]
  },
  {
   "cell_type": "code",
   "execution_count": null,
   "id": "277b8d4d",
   "metadata": {},
   "outputs": [],
   "source": [
    "# Draw a line chart\n",
    "line_chart_order_hour_of_day_prices = sns.lineplot(data = df_2, x = 'order_hour_of_day',y = 'prices',\n",
    "                                                   markers=True, palette='#2ca02c', \n",
    "                                                   linewidth=2.5).set(title='Hour of the Day vs. Prices')\n",
    "\n",
    "plt.xlabel('Hour of the Day')\n",
    "plt.ylabel('Price')\n",
    "plt.grid(True)\n",
    "\n",
    "# Save the plot\n",
    "plt.savefig(os.path.join(path,'04 Analysis', 'Visualizations','Task 4.10', 'expenditure_vs_time.png'))"
   ]
  },
  {
   "cell_type": "markdown",
   "id": "d6d98f88",
   "metadata": {},
   "source": [
    "**4. Departments with the highest frequency of product orders**"
   ]
  },
  {
   "cell_type": "code",
   "execution_count": null,
   "id": "9af5bfb0",
   "metadata": {},
   "outputs": [],
   "source": [
    "#Draw a plot bar chart\n",
    "df_1['department'].value_counts().plot(kind='bar', color=['olive', 'lightseagreen', 'gold', 'coral', 'seagreen',\n",
    "                                                          'goldenrod', 'yellowgreen'],figsize=(8,8),alpha=1, edgecolor='black')\n",
    "# Set the labels and plot title\n",
    "plt.title('Bar Plot of Departments')\n",
    "plt.xlabel('Department')\n",
    "plt.ylabel('Frequency of Orders')\n",
    "plt.grid(True)\n",
    "\n",
    "# Save the plot\n",
    "plt.savefig(os.path.join(path,'04 Analysis', 'Visualizations','Task 4.10', 'departments_and_order_frequency.png'))"
   ]
  },
  {
   "cell_type": "markdown",
   "id": "fbf6be74",
   "metadata": {},
   "source": [
    "**5. Distribution among users in regards to their brand loyalty**"
   ]
  },
  {
   "cell_type": "code",
   "execution_count": null,
   "id": "6ba19a4a",
   "metadata": {},
   "outputs": [],
   "source": [
    "# Draw a plot bar chart\n",
    "df_1['loyalty_flag'].value_counts().plot(kind='barh', color=['darkgoldenrod','goldenrod','khaki'],\n",
    "                                         figsize=(13,4),edgecolor='black')\n",
    "\n",
    "# Set the labels and plot title\n",
    "plt.title('Bar Plot of Customer Count by Loyalty Levels')\n",
    "plt.ylabel('Loyalty Level')\n",
    "plt.xlabel('Frequency of Customer')\n",
    "\n",
    "# Save the plot\n",
    "plt.savefig(os.path.join(path,'04 Analysis', 'Visualizations', 'Task 4.10', 'customer_loyalty.png'))"
   ]
  },
  {
   "cell_type": "markdown",
   "id": "9f300e65",
   "metadata": {},
   "source": [
    "**6. Age-wise Brand Loyalty**"
   ]
  },
  {
   "cell_type": "code",
   "execution_count": null,
   "id": "080ce743",
   "metadata": {},
   "outputs": [],
   "source": [
    "# Check if there is a correlation between age groups and brand loyalty\n",
    "brand_loyalty_by_age = pd.crosstab(df_1['loyalty_flag'], df_1['age_group'])"
   ]
  },
  {
   "cell_type": "code",
   "execution_count": null,
   "id": "54545b11",
   "metadata": {},
   "outputs": [],
   "source": [
    "brand_loyalty_by_age"
   ]
  },
  {
   "cell_type": "code",
   "execution_count": null,
   "id": "c7e9c8d9",
   "metadata": {},
   "outputs": [],
   "source": [
    "# Create a stacked bar chart\n",
    "stacked_age_loyalty_bar = brand_loyalty_by_age.plot(kind = 'bar', stacked = True, \n",
    "                                                    color = ['darkorange', 'gold', 'darkgoldenrod','goldenrod','khaki'],figsize=(6,6))\n",
    "\n",
    "# Set the labels and plot title\n",
    "plt.title('Bar Plot of Age vs Brand Loyalty')\n",
    "plt.xlabel('Loyalty Level')\n",
    "plt.ylabel('Count of Customers')\n",
    "\n",
    "# Save the plot\n",
    "plt.savefig(os.path.join(path,'04 Analysis', 'Visualizations', 'Task 4.10', 'customer_age_vs_loyalty.png'))\n"
   ]
  },
  {
   "cell_type": "markdown",
   "id": "a602ea90",
   "metadata": {},
   "source": [
    "**7. Household status vs Brand Loyalty**"
   ]
  },
  {
   "cell_type": "code",
   "execution_count": null,
   "id": "38953b68",
   "metadata": {},
   "outputs": [],
   "source": [
    "# Check if there is a correlation between household status and brand loyalty\n",
    "lylty_by_household_status = pd.crosstab(df_1['Household_Status'], df_1['loyalty_flag'])"
   ]
  },
  {
   "cell_type": "code",
   "execution_count": null,
   "id": "9c1c52e4",
   "metadata": {},
   "outputs": [],
   "source": [
    "lylty_by_household_status"
   ]
  },
  {
   "cell_type": "code",
   "execution_count": null,
   "id": "19633a51",
   "metadata": {},
   "outputs": [],
   "source": [
    "# Create a bar chart\n",
    "bar_lylty_by_household_status = lylty_by_household_status.plot(kind = 'bar', color = ['khaki','goldenrod','darkgoldenrod'],figsize=(6,6))\n",
    "\n",
    "# Set the labels and plot title\n",
    "plt.title('Bar Plot of Household Status vs Brand Loyalty')\n",
    "plt.xlabel('Loyalty Level')\n",
    "plt.ylabel('Count of Customers')\n",
    "\n",
    "# Save the plot\n",
    "plt.savefig(os.path.join(path,'04 Analysis', 'Visualizations', 'Task 4.10', 'lylty_household_status.png'))\n"
   ]
  },
  {
   "cell_type": "markdown",
   "id": "7348d953",
   "metadata": {},
   "source": [
    "**8. Income vs Brand Loyalty**"
   ]
  },
  {
   "cell_type": "code",
   "execution_count": null,
   "id": "b24013f0",
   "metadata": {},
   "outputs": [],
   "source": [
    "# Check if there is a correlation between income groups and brand loyalty\n",
    "brand_loyalty_by_income = pd.crosstab(df_1['loyalty_flag'], df_1['Income_Category'])"
   ]
  },
  {
   "cell_type": "code",
   "execution_count": null,
   "id": "ce16f75a",
   "metadata": {},
   "outputs": [],
   "source": [
    "brand_loyalty_by_income"
   ]
  },
  {
   "cell_type": "code",
   "execution_count": null,
   "id": "ae58e0c9",
   "metadata": {},
   "outputs": [],
   "source": [
    "# Create a stacked bar chart\n",
    "bar_lylty_by_income = brand_loyalty_by_income.plot(kind = 'bar', color = ['khaki','goldenrod','darkgoldenrod','orange'],figsize=(6,6))\n",
    "\n",
    "# Set the labels and plot title\n",
    "plt.title('Bar Plot of Income Category vs Brand Loyalty')\n",
    "plt.xlabel('Loyalty Level')\n",
    "plt.ylabel('Count of Customers')\n",
    "\n",
    "# Save the plot\n",
    "plt.savefig(os.path.join(path,'04 Analysis', 'Visualizations', 'Task 4.10', 'income_ctgry_vs_lylty.png'))\n"
   ]
  },
  {
   "cell_type": "markdown",
   "id": "f8cc55de",
   "metadata": {},
   "source": [
    "**9. Brand Loyalty by Region**"
   ]
  },
  {
   "cell_type": "code",
   "execution_count": null,
   "id": "70ee982f",
   "metadata": {},
   "outputs": [],
   "source": [
    "# Check if some regions have more loyal customers than others\n",
    "loyalty_by_region = pd.crosstab(df_1['loyalty_flag'], df_1['Region'])"
   ]
  },
  {
   "cell_type": "code",
   "execution_count": null,
   "id": "d8fe896a",
   "metadata": {},
   "outputs": [],
   "source": [
    "loyalty_by_region.to_clipboard()"
   ]
  },
  {
   "cell_type": "code",
   "execution_count": null,
   "id": "50a9433a",
   "metadata": {},
   "outputs": [],
   "source": [
    "# Create a stacked bar chart\n",
    "bar_loyalty_by_region = loyalty_by_region.plot(kind = 'barh', stacked=True, color = ['darkorange', 'gold', 'darkgoldenrod',\n",
    "                                                                                    'goldenrod'],figsize=(6,6))\n",
    "\n",
    "# Set the labels and plot title\n",
    "plt.title('Brand Loyalty by Region')\n",
    "plt.ylabel('Loyalty Level')\n",
    "plt.xlabel('Count of Customers')\n",
    "\n",
    "# Save the plot\n",
    "plt.savefig(os.path.join(path,'04 Analysis', 'Visualizations', 'Task 4.10', 'loyalty_vs_region.png'))\n"
   ]
  },
  {
   "cell_type": "markdown",
   "id": "253c2d6c",
   "metadata": {},
   "source": [
    "**10. Department Preferences of Loyal customers**"
   ]
  },
  {
   "cell_type": "code",
   "execution_count": null,
   "id": "22fda512",
   "metadata": {},
   "outputs": [],
   "source": [
    "# Check if there is a correlation between departments and brand loyalty\n",
    "brand_loyalty_department = pd.crosstab(df_1['department_id'],df_1['loyalty_flag'])"
   ]
  },
  {
   "cell_type": "code",
   "execution_count": null,
   "id": "b807e858",
   "metadata": {},
   "outputs": [],
   "source": [
    "brand_loyalty_department"
   ]
  },
  {
   "cell_type": "code",
   "execution_count": null,
   "id": "c16acf5e",
   "metadata": {},
   "outputs": [],
   "source": [
    "# Create a stacked bar chart\n",
    "bar_brand_loyalty_department = brand_loyalty_department.plot(kind = 'bar', color = ['darkorange', 'gold', 'darkgoldenrod',\n",
    "                                                                                    'goldenrod'],figsize=(8,8))\n",
    "\n",
    "# Set the labels and plot title\n",
    "plt.title('Brand Loyalty vs Department Preferences')\n",
    "plt.ylabel('Frequency')\n",
    "plt.xlabel('Department')\n",
    "\n",
    "# Save the plot\n",
    "plt.savefig(os.path.join(path,'04 Analysis', 'Visualizations', 'Task 4.10', 'lylty_vs_dept.png'))\n"
   ]
  },
  {
   "cell_type": "markdown",
   "id": "f9f4f3b3",
   "metadata": {},
   "source": [
    "**11. Age-group wise department preferences**"
   ]
  },
  {
   "cell_type": "code",
   "execution_count": null,
   "id": "320859ef",
   "metadata": {},
   "outputs": [],
   "source": [
    "# Check which departments are most popular among different age groups\n",
    "age_department_preference = pd.crosstab(df_1['department_id'],df_1['age_group'])"
   ]
  },
  {
   "cell_type": "code",
   "execution_count": null,
   "id": "bcbf0ad5",
   "metadata": {},
   "outputs": [],
   "source": [
    "age_department_preference"
   ]
  },
  {
   "cell_type": "code",
   "execution_count": null,
   "id": "f12563f7",
   "metadata": {},
   "outputs": [],
   "source": [
    "plt.rcParams[\"figure.autolayout\"] = True\n",
    "\n",
    "# Create a stacked area chart\n",
    "bar_age_dpt_preference = age_department_preference.plot(kind = 'area',color = ['olivedrab', 'yellowgreen', 'greenyellow',\n",
    "                                                                                    'yellow'],figsize=(8,8))\n",
    "\n",
    "# Set the labels and plot title\n",
    "plt.title('Age vs Department Preferences')\n",
    "plt.ylabel('Frequency')\n",
    "plt.xlabel('Department')\n",
    "plt.grid(True)\n",
    "plt.xlim(1, 22)\n",
    "plt.xticks([1,2,3,4,5,6,7,8,9,10,11,12,13,14,15,16,17,18,19,20,21,22])\n",
    "\n",
    "# Save the plot\n",
    "plt.savefig(os.path.join(path,'04 Analysis', 'Visualizations', 'Task 4.10', 'age_vs_dept.png'))\n"
   ]
  },
  {
   "cell_type": "markdown",
   "id": "b10b8d64",
   "metadata": {},
   "source": [
    "**12. Income vs Dept Preference**"
   ]
  },
  {
   "cell_type": "code",
   "execution_count": null,
   "id": "7e90dbe0",
   "metadata": {},
   "outputs": [],
   "source": [
    "# Check which departments are most popular among different income groups\n",
    "income_dpt_preference = pd.crosstab(df_1['department_id'],df_1['Income_Category'])"
   ]
  },
  {
   "cell_type": "code",
   "execution_count": null,
   "id": "f85635a5",
   "metadata": {},
   "outputs": [],
   "source": [
    "income_dpt_preference"
   ]
  },
  {
   "cell_type": "code",
   "execution_count": null,
   "id": "0a153221",
   "metadata": {},
   "outputs": [],
   "source": [
    "plt.rcParams[\"figure.autolayout\"] = True\n",
    "\n",
    "# Create a stacked area chart\n",
    "income_dpt_preference = income_dpt_preference.plot(kind = 'area',color = ['olivedrab', 'yellowgreen', 'greenyellow',\n",
    "                                                                                    'yellow'],figsize=(8,8))\n",
    "\n",
    "# Set the labels and plot title\n",
    "plt.title('Income vs Department Preferences')\n",
    "plt.ylabel('Frequency')\n",
    "plt.xlabel('Department')\n",
    "plt.grid(True)\n",
    "plt.xlim(1, 22)\n",
    "plt.xticks([1,2,3,4,5,6,7,8,9,10,11,12,13,14,15,16,17,18,19,20,21,22])\n",
    "\n",
    "# Save the plot\n",
    "plt.savefig(os.path.join(path,'04 Analysis', 'Visualizations', 'Task 4.10', 'income_vs_dept.png'))\n"
   ]
  },
  {
   "cell_type": "markdown",
   "id": "be98c0a3",
   "metadata": {},
   "source": [
    "**13. Household Status vs Department Preference**"
   ]
  },
  {
   "cell_type": "code",
   "execution_count": null,
   "id": "cac289a0",
   "metadata": {},
   "outputs": [],
   "source": [
    "# Check which departments are most popular among different household sizes\n",
    "hhld_dpt_preference = pd.crosstab(df_1['department_id'],df_1['Household_Status'])"
   ]
  },
  {
   "cell_type": "code",
   "execution_count": null,
   "id": "01566733",
   "metadata": {},
   "outputs": [],
   "source": [
    "hhld_dpt_preference"
   ]
  },
  {
   "cell_type": "code",
   "execution_count": null,
   "id": "0657bf78",
   "metadata": {},
   "outputs": [],
   "source": [
    "plt.rcParams[\"figure.autolayout\"] = True\n",
    "\n",
    "# Create a stacked area chart\n",
    "plt_hhld_dpt_preference = hhld_dpt_preference.plot(kind = 'area',color = ['olivedrab', 'yellowgreen', 'greenyellow',\n",
    "                                                                                    'yellow'],figsize=(8,8))\n",
    "\n",
    "# Set the labels and plot title\n",
    "plt.title('Household Size vs Department Preferences')\n",
    "plt.ylabel('Frequency')\n",
    "plt.xlabel('Department')\n",
    "plt.grid(True)\n",
    "plt.xlim(1, 22)\n",
    "plt.xticks([1,2,3,4,5,6,7,8,9,10,11,12,13,14,15,16,17,18,19,20,21,22])\n",
    "\n",
    "# Save the plot\n",
    "plt.savefig(os.path.join(path,'04 Analysis', 'Visualizations', 'Task 4.10', 'household_vs_dept.png'))\n"
   ]
  },
  {
   "cell_type": "markdown",
   "id": "087cdcbc",
   "metadata": {},
   "source": [
    "**14. Region wise Department Preferences**"
   ]
  },
  {
   "cell_type": "code",
   "execution_count": null,
   "id": "5f6f6f6f",
   "metadata": {},
   "outputs": [],
   "source": [
    "# Check which departments are most popular in different regions\n",
    "region_dpt_preference = pd.crosstab(df_1['department_id'],df_1['Region'])"
   ]
  },
  {
   "cell_type": "code",
   "execution_count": null,
   "id": "99461e78",
   "metadata": {},
   "outputs": [],
   "source": [
    "region_dpt_preference"
   ]
  },
  {
   "cell_type": "code",
   "execution_count": null,
   "id": "78275f55",
   "metadata": {},
   "outputs": [],
   "source": [
    "plt.rcParams[\"figure.autolayout\"] = True\n",
    "\n",
    "# Create a stacked area chart\n",
    "region_dpt_preference = region_dpt_preference.plot(kind = 'area',color = ['olivedrab', 'yellowgreen', 'greenyellow',\n",
    "                                                                                    'yellow'],figsize=(8,8))\n",
    "\n",
    "# Set the labels and plot title\n",
    "plt.title('Region wise Department Preferences')\n",
    "plt.ylabel('Frequency')\n",
    "plt.xlabel('Department')\n",
    "plt.grid(True)\n",
    "plt.xlim(1, 22)\n",
    "plt.xticks([1,2,3,4,5,6,7,8,9,10,11,12,13,14,15,16,17,18,19,20,21,22])\n",
    "\n",
    "# Save the plot\n",
    "plt.savefig(os.path.join(path,'04 Analysis', 'Visualizations', 'Task 4.10', 'regionwise_dept.png'))\n"
   ]
  },
  {
   "cell_type": "markdown",
   "id": "3557d7e5",
   "metadata": {},
   "source": [
    "**15. Age-group vs Spending flag**"
   ]
  },
  {
   "cell_type": "code",
   "execution_count": null,
   "id": "5670e2d8",
   "metadata": {},
   "outputs": [],
   "source": [
    "# Check which age groups have most number of High Spenders\n",
    "age_vs_spending = pd.crosstab(df_1['spending_flag'],df_1['age_group'])"
   ]
  },
  {
   "cell_type": "code",
   "execution_count": null,
   "id": "ec1b5f14",
   "metadata": {},
   "outputs": [],
   "source": [
    "age_vs_spending"
   ]
  },
  {
   "cell_type": "code",
   "execution_count": null,
   "id": "4d926517",
   "metadata": {},
   "outputs": [],
   "source": [
    "# Create a bar chart\n",
    "age_vs_spending = age_vs_spending.plot(kind = 'bar', color = ['seagreen', 'mediumseagreen', 'green',\n",
    "                                                                                    'mediumspringgreen'],figsize=(8,8))\n",
    "\n",
    "# Set the labels and plot title\n",
    "plt.title('Age vs Spending Trends')\n",
    "plt.ylabel('Age Group')\n",
    "plt.xlabel('Spending Trend')\n",
    "\n",
    "# Save the plot\n",
    "plt.savefig(os.path.join(path,'04 Analysis', 'Visualizations', 'Task 4.10', 'age_spending_habit.png'))\n"
   ]
  },
  {
   "cell_type": "markdown",
   "id": "8c9eb00a",
   "metadata": {},
   "source": [
    "**16. Region wise spending trend**"
   ]
  },
  {
   "cell_type": "code",
   "execution_count": null,
   "id": "1cf81876",
   "metadata": {},
   "outputs": [],
   "source": [
    "# Check which regions have most number of High Spenders\n",
    "region_vs_spending = pd.crosstab(df_1['spending_flag'],df_1['Region'])"
   ]
  },
  {
   "cell_type": "code",
   "execution_count": null,
   "id": "3f022e55",
   "metadata": {},
   "outputs": [],
   "source": [
    "region_vs_spending "
   ]
  },
  {
   "cell_type": "code",
   "execution_count": null,
   "id": "fdb37fd9",
   "metadata": {},
   "outputs": [],
   "source": [
    "# Create a bar chart\n",
    "region_vs_spending  = region_vs_spending.plot(kind = 'bar', color = ['seagreen', 'mediumseagreen', 'green',\n",
    "                                                                                    'mediumspringgreen'],figsize=(8,8))\n",
    "\n",
    "# Set the labels and plot title\n",
    "plt.title('Region wise Spending Trends')\n",
    "plt.ylabel('Region')\n",
    "plt.xlabel('Spending Trend')\n",
    "\n",
    "# Save the plot\n",
    "plt.savefig(os.path.join(path,'04 Analysis', 'Visualizations', 'Task 4.10', 'region_spending_habit.png'))\n"
   ]
  },
  {
   "cell_type": "markdown",
   "id": "a619ad02",
   "metadata": {},
   "source": [
    "**17. Age wise most active hours**"
   ]
  },
  {
   "cell_type": "code",
   "execution_count": null,
   "id": "f6022a99",
   "metadata": {},
   "outputs": [],
   "source": [
    "# Create a crosstab between age group and hour of the day\n",
    "active_hours_vs_age = pd.crosstab(df_1['order_hour_of_day'],df_1['age_group'])"
   ]
  },
  {
   "cell_type": "code",
   "execution_count": null,
   "id": "dbfb2ed9",
   "metadata": {},
   "outputs": [],
   "source": [
    "active_hours_vs_age"
   ]
  },
  {
   "cell_type": "code",
   "execution_count": null,
   "id": "569fea46",
   "metadata": {},
   "outputs": [],
   "source": [
    "# Create a bar chart\n",
    "bar_active_hours_vs_age  = active_hours_vs_age.plot(kind = 'bar', color = ['olive', 'lightseagreen', 'gold',\n",
    "                                                                                    'coral'],figsize=(8,8))\n",
    "\n",
    "# Set the labels and plot title\n",
    "plt.title('Age wise Active Hours')\n",
    "plt.xlabel('Hour of the Day')\n",
    "plt.ylabel('Frequency')\n",
    "\n",
    "# Save the plot\n",
    "plt.savefig(os.path.join(path,'04 Analysis', 'Visualizations', 'Task 4.10', 'age_wise_active_hours.png'))\n"
   ]
  },
  {
   "cell_type": "markdown",
   "id": "b35372c1",
   "metadata": {},
   "source": [
    "**18. Region wise most active hours**"
   ]
  },
  {
   "cell_type": "code",
   "execution_count": null,
   "id": "59b4d741",
   "metadata": {},
   "outputs": [],
   "source": [
    "# Create a crosstab between region and hour of the day\n",
    "region_vs_hours = pd.crosstab(df_1['order_hour_of_day'],df_1['Region'])"
   ]
  },
  {
   "cell_type": "code",
   "execution_count": null,
   "id": "6586be6c",
   "metadata": {},
   "outputs": [],
   "source": [
    "region_vs_hours"
   ]
  },
  {
   "cell_type": "code",
   "execution_count": null,
   "id": "971a3c15",
   "metadata": {},
   "outputs": [],
   "source": [
    "# Create a bar chart\n",
    "bar_region_vs_hours  = region_vs_hours.plot(kind = 'bar', color = ['olive', 'lightseagreen', 'gold',\n",
    "                                                                                    'coral'],figsize=(8,8))\n",
    "\n",
    "# Set the labels and plot title\n",
    "plt.title('Region wise Active Hours')\n",
    "plt.xlabel('Hour of the Day')\n",
    "plt.ylabel('Frequency')\n",
    "\n",
    "# Save the plot\n",
    "plt.savefig(os.path.join(path,'04 Analysis', 'Visualizations', 'Task 4.10', 'region_wise_active_hours.png'))\n"
   ]
  },
  {
   "cell_type": "markdown",
   "id": "3cdea3a3",
   "metadata": {},
   "source": [
    "**19. Household Status wise most active hours**"
   ]
  },
  {
   "cell_type": "code",
   "execution_count": null,
   "id": "b55435c9",
   "metadata": {},
   "outputs": [],
   "source": [
    "# Create a crosstab between household status and hour of the day\n",
    "hhld_status_vs_hours = pd.crosstab(df_1['order_hour_of_day'],df_1['Household_Status'])"
   ]
  },
  {
   "cell_type": "code",
   "execution_count": null,
   "id": "be55b1e7",
   "metadata": {},
   "outputs": [],
   "source": [
    "hhld_status_vs_hours"
   ]
  },
  {
   "cell_type": "code",
   "execution_count": null,
   "id": "9b101900",
   "metadata": {},
   "outputs": [],
   "source": [
    "# Create a bar chart\n",
    "bar_hhld_status_vs_hours  = hhld_status_vs_hours.plot(kind = 'bar', color = ['olive', 'lightseagreen', 'gold',\n",
    "                                                                                    'coral'],figsize=(8,8))\n",
    "\n",
    "# Set the labels and plot title\n",
    "plt.title('Household Status wise Active Hours')\n",
    "plt.xlabel('Hour of the Day')\n",
    "plt.ylabel('Frequency')\n",
    "\n",
    "# Save the plot\n",
    "plt.savefig(os.path.join(path,'04 Analysis', 'Visualizations', 'Task 4.10', 'hhld_status_vs_hours.png'))\n"
   ]
  },
  {
   "cell_type": "markdown",
   "id": "1a96eed0",
   "metadata": {},
   "source": [
    "**20. Age wise most active days**"
   ]
  },
  {
   "cell_type": "code",
   "execution_count": null,
   "id": "00424650",
   "metadata": {},
   "outputs": [],
   "source": [
    "# Create a crosstab between age and day of the week\n",
    "age_vs_active_days = pd.crosstab(df_1['orders_day_of_week'],df_1['age_group'])"
   ]
  },
  {
   "cell_type": "code",
   "execution_count": null,
   "id": "e342f5e1",
   "metadata": {},
   "outputs": [],
   "source": [
    "age_vs_active_days"
   ]
  },
  {
   "cell_type": "code",
   "execution_count": null,
   "id": "be4b2c67",
   "metadata": {},
   "outputs": [],
   "source": [
    "# Create a bar chart\n",
    "bar_age_vs_active_days  = age_vs_active_days.plot(kind = 'barh', color = ['green', 'skyblue', 'yellow',\n",
    "                                                                                    'orange'],figsize=(8,8))\n",
    "\n",
    "# Set the labels and plot title\n",
    "plt.title('Age wise Active Days')\n",
    "plt.ylabel('Day of the Week')\n",
    "plt.xlabel('Frequency')\n",
    "\n",
    "# Save the plot\n",
    "plt.savefig(os.path.join(path,'04 Analysis', 'Visualizations', 'Task 4.10', 'age_vs_active_days.png'))\n"
   ]
  },
  {
   "cell_type": "markdown",
   "id": "0fcf68e6",
   "metadata": {},
   "source": [
    "**21. Region wise most active days**"
   ]
  },
  {
   "cell_type": "code",
   "execution_count": null,
   "id": "ecb5d21c",
   "metadata": {},
   "outputs": [],
   "source": [
    "# Create a crosstab between region and day of the week\n",
    "region_vs_active_days = pd.crosstab(df_1['orders_day_of_week'],df_1['Region'])"
   ]
  },
  {
   "cell_type": "code",
   "execution_count": null,
   "id": "668e8657",
   "metadata": {},
   "outputs": [],
   "source": [
    "region_vs_active_days"
   ]
  },
  {
   "cell_type": "code",
   "execution_count": null,
   "id": "7183f5fe",
   "metadata": {},
   "outputs": [],
   "source": [
    "# Create a bar chart\n",
    "bar_region_vs_active_days = region_vs_active_days.plot(kind = 'barh', color = ['green', 'skyblue', 'yellow',\n",
    "                                                                                    'orange'],figsize=(8,8))\n",
    "\n",
    "# Set the labels and plot title\n",
    "plt.title('Region wise Active Days')\n",
    "plt.ylabel('Day of the Week')\n",
    "plt.xlabel('Frequency')\n",
    "\n",
    "# Save the plot\n",
    "plt.savefig(os.path.join(path,'04 Analysis', 'Visualizations', 'Task 4.10', 'region_vs_active_days.png'))\n"
   ]
  },
  {
   "cell_type": "markdown",
   "id": "94771f59",
   "metadata": {},
   "source": [
    "**22. Household Status wise most active days**"
   ]
  },
  {
   "cell_type": "code",
   "execution_count": null,
   "id": "f3987fc4",
   "metadata": {},
   "outputs": [],
   "source": [
    "# Create a crosstab between household status and day of the week\n",
    "hhld_status_vs_active_days = pd.crosstab(df_1['orders_day_of_week'],df_1['Household_Status'])"
   ]
  },
  {
   "cell_type": "code",
   "execution_count": null,
   "id": "5868bb9d",
   "metadata": {},
   "outputs": [],
   "source": [
    "hhld_status_vs_active_days"
   ]
  },
  {
   "cell_type": "code",
   "execution_count": null,
   "id": "279473d2",
   "metadata": {},
   "outputs": [],
   "source": [
    "# Create a bar chart\n",
    "bar_hhld_status_vs_active_days = hhld_status_vs_active_days.plot(kind = 'barh', color = ['green', 'skyblue', 'yellow',\n",
    "                                                                                    'orange'],figsize=(8,8))\n",
    "\n",
    "# Set the labels and plot title\n",
    "plt.title('Household Status wise Active Days')\n",
    "plt.ylabel('Day of the Week')\n",
    "plt.xlabel('Frequency')\n",
    "\n",
    "# Save the plot\n",
    "plt.savefig(os.path.join(path,'04 Analysis', 'Visualizations', 'Task 4.10', 'hhld_status_vs_active_days.png'))\n"
   ]
  },
  {
   "cell_type": "markdown",
   "id": "e38b678a",
   "metadata": {},
   "source": [
    "## 7. Aggregation"
   ]
  },
  {
   "cell_type": "markdown",
   "id": "5bec9982",
   "metadata": {},
   "source": [
    "**Question 7. Aggregate the max, mean, and min variables on a customer-profile level for usage frequency and expenditure**"
   ]
  },
  {
   "cell_type": "markdown",
   "id": "e5af385c",
   "metadata": {},
   "source": [
    "**1. Department Re-order Frequency Aggregation**"
   ]
  },
  {
   "cell_type": "code",
   "execution_count": null,
   "id": "c467c3e3",
   "metadata": {},
   "outputs": [],
   "source": [
    "dept_order_agg = df_1.groupby('department_id').agg({'reordered':['mean', 'min','max']})"
   ]
  },
  {
   "cell_type": "code",
   "execution_count": null,
   "id": "faf123f9",
   "metadata": {},
   "outputs": [],
   "source": [
    "dept_order_agg.to_clipboard()"
   ]
  },
  {
   "cell_type": "code",
   "execution_count": null,
   "id": "abbb637f",
   "metadata": {},
   "outputs": [],
   "source": [
    "# Export the dataframe\n",
    "dept_order_agg.to_csv(os.path.join(path, '02 Data', 'Prepared Data', 'dept_order_agg.csv'))"
   ]
  },
  {
   "cell_type": "markdown",
   "id": "3730a592",
   "metadata": {},
   "source": [
    "**2. Age wise usage Aggregation**"
   ]
  },
  {
   "cell_type": "code",
   "execution_count": null,
   "id": "9ccade76",
   "metadata": {},
   "outputs": [],
   "source": [
    "age_usage_agg = df_1.groupby('age_group').agg({'days_since_prior_order':['mean', 'min','max']})"
   ]
  },
  {
   "cell_type": "code",
   "execution_count": null,
   "id": "f3c6af62",
   "metadata": {},
   "outputs": [],
   "source": [
    "age_usage_agg"
   ]
  },
  {
   "cell_type": "code",
   "execution_count": null,
   "id": "bc854d9d",
   "metadata": {},
   "outputs": [],
   "source": [
    "# Export the dataframe\n",
    "age_usage_agg.to_csv(os.path.join(path, '02 Data', 'Prepared Data', 'age_usage_agg.csv'))"
   ]
  },
  {
   "cell_type": "markdown",
   "id": "98d1dbdf",
   "metadata": {},
   "source": [
    "**3. Age wise purchase Aggregation**"
   ]
  },
  {
   "cell_type": "code",
   "execution_count": null,
   "id": "b75d4e50",
   "metadata": {},
   "outputs": [],
   "source": [
    "age_purchase_agg = df_1.groupby('age_group').agg({'prices':['mean', 'min','max']})"
   ]
  },
  {
   "cell_type": "code",
   "execution_count": null,
   "id": "732d4797",
   "metadata": {},
   "outputs": [],
   "source": [
    "age_purchase_agg"
   ]
  },
  {
   "cell_type": "code",
   "execution_count": null,
   "id": "46319d37",
   "metadata": {},
   "outputs": [],
   "source": [
    "# Export the dataframe\n",
    "age_purchase_agg.to_csv(os.path.join(path, '02 Data', 'Prepared Data', 'age_purchase_agg.csv'))"
   ]
  },
  {
   "cell_type": "markdown",
   "id": "7e327a06",
   "metadata": {},
   "source": [
    "**4. Income wise Usage Frequency**"
   ]
  },
  {
   "cell_type": "code",
   "execution_count": null,
   "id": "944002c9",
   "metadata": {},
   "outputs": [],
   "source": [
    "income_usage_agg = df_1.groupby('Income_Category').agg({'days_since_prior_order':['mean', 'min','max']})"
   ]
  },
  {
   "cell_type": "code",
   "execution_count": null,
   "id": "d22b6424",
   "metadata": {},
   "outputs": [],
   "source": [
    "income_usage_agg"
   ]
  },
  {
   "cell_type": "code",
   "execution_count": null,
   "id": "b7cb1fe2",
   "metadata": {},
   "outputs": [],
   "source": [
    "# Export the dataframe\n",
    "income_usage_agg.to_csv(os.path.join(path, '02 Data', 'Prepared Data', 'income_usage_agg.csv'))"
   ]
  },
  {
   "cell_type": "markdown",
   "id": "6b56310b",
   "metadata": {},
   "source": [
    "**5. Household Status Usage Frequency**"
   ]
  },
  {
   "cell_type": "code",
   "execution_count": null,
   "id": "2dbd8409",
   "metadata": {},
   "outputs": [],
   "source": [
    "hhld_usage_agg = df_1.groupby('Household_Status').agg({'days_since_prior_order':['mean', 'min','max']})"
   ]
  },
  {
   "cell_type": "code",
   "execution_count": null,
   "id": "82e57ce5",
   "metadata": {},
   "outputs": [],
   "source": [
    "hhld_usage_agg"
   ]
  },
  {
   "cell_type": "code",
   "execution_count": null,
   "id": "268d1a14",
   "metadata": {},
   "outputs": [],
   "source": [
    "# Export the dataframe\n",
    "hhld_usage_agg.to_csv(os.path.join(path, '02 Data', 'Prepared Data', 'hhld_usage_agg.csv'))"
   ]
  },
  {
   "cell_type": "markdown",
   "id": "79f8d2e6",
   "metadata": {},
   "source": [
    "**6. Household Status Spending Aggregation**"
   ]
  },
  {
   "cell_type": "code",
   "execution_count": null,
   "id": "fc2e4df7",
   "metadata": {},
   "outputs": [],
   "source": [
    "hhld_expediture_agg = df_1.groupby('Household_Status').agg({'prices':['mean', 'min','max']})"
   ]
  },
  {
   "cell_type": "code",
   "execution_count": null,
   "id": "db534cd5",
   "metadata": {},
   "outputs": [],
   "source": [
    "hhld_expediture_agg"
   ]
  },
  {
   "cell_type": "code",
   "execution_count": null,
   "id": "5d5f8cb1",
   "metadata": {},
   "outputs": [],
   "source": [
    "# Export the dataframe\n",
    "hhld_expediture_agg .to_csv(os.path.join(path, '02 Data', 'Prepared Data', 'hhld_expediture_agg.csv'))"
   ]
  },
  {
   "cell_type": "code",
   "execution_count": null,
   "id": "2ed84dc1",
   "metadata": {},
   "outputs": [],
   "source": [
    "# Export the final dataset used for visualizations\n",
    "df_1.to_pickle(os.path.join(path, '02 Data','Prepared Data', 'Instacart_data22.pkl'))"
   ]
  },
  {
   "cell_type": "markdown",
   "id": "7109afd6",
   "metadata": {},
   "source": [
    "**7. Departments and Price tags**"
   ]
  },
  {
   "cell_type": "code",
   "execution_count": null,
   "id": "fe13fb28",
   "metadata": {},
   "outputs": [],
   "source": [
    "# Create a crosstab between household status and day of the week\n",
    "product_price = pd.crosstab(df_1['department_id'],df_1['prices_range_loc'])"
   ]
  },
  {
   "cell_type": "code",
   "execution_count": null,
   "id": "5c5ef949",
   "metadata": {},
   "outputs": [],
   "source": [
    "# Copy the crosstab to excel\n",
    "product_price"
   ]
  }
 ],
 "metadata": {
  "kernelspec": {
   "display_name": "Python 3 (ipykernel)",
   "language": "python",
   "name": "python3"
  },
  "language_info": {
   "codemirror_mode": {
    "name": "ipython",
    "version": 3
   },
   "file_extension": ".py",
   "mimetype": "text/x-python",
   "name": "python",
   "nbconvert_exporter": "python",
   "pygments_lexer": "ipython3",
   "version": "3.9.13"
  }
 },
 "nbformat": 4,
 "nbformat_minor": 5
}
