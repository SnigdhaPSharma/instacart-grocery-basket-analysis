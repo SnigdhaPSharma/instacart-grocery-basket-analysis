{
 "cells": [
  {
   "cell_type": "markdown",
   "id": "c5ac881b",
   "metadata": {},
   "source": [
    "### Import Libraries"
   ]
  },
  {
   "cell_type": "code",
   "execution_count": 3,
   "id": "0c0357a3",
   "metadata": {},
   "outputs": [],
   "source": [
    "# Import the required libraries\n",
    "\n",
    "import pandas as pd\n",
    "import numpy as np\n",
    "import os"
   ]
  },
  {
   "cell_type": "markdown",
   "id": "9a75bdbd",
   "metadata": {},
   "source": [
    "### Import the Dataset"
   ]
  },
  {
   "cell_type": "code",
   "execution_count": 4,
   "id": "6812c335",
   "metadata": {},
   "outputs": [],
   "source": [
    "# Create a path variable\n",
    "path = r'C:\\Users\\sands\\Documents\\01-2022 Instacart Basket Analysis'"
   ]
  },
  {
   "cell_type": "code",
   "execution_count": 5,
   "id": "787aa7c7",
   "metadata": {},
   "outputs": [
    {
     "ename": "FileNotFoundError",
     "evalue": "[Errno 2] No such file or directory: 'C:\\\\Users\\\\sands\\\\Documents\\\\01-2022 Instacart Basket Analysis\\\\02 Data\\\\Prepared Data\\\\products_merged.pkl'",
     "output_type": "error",
     "traceback": [
      "\u001b[1;31m---------------------------------------------------------------------------\u001b[0m",
      "\u001b[1;31mFileNotFoundError\u001b[0m                         Traceback (most recent call last)",
      "\u001b[1;32m~\\AppData\\Local\\Temp\\ipykernel_15252\\2261934394.py\u001b[0m in \u001b[0;36m<module>\u001b[1;34m\u001b[0m\n\u001b[0;32m      1\u001b[0m \u001b[1;31m# Import the Dataset\u001b[0m\u001b[1;33m\u001b[0m\u001b[1;33m\u001b[0m\u001b[0m\n\u001b[1;32m----> 2\u001b[1;33m \u001b[0mdf_ords_prods_merged\u001b[0m \u001b[1;33m=\u001b[0m \u001b[0mpd\u001b[0m\u001b[1;33m.\u001b[0m\u001b[0mread_pickle\u001b[0m\u001b[1;33m(\u001b[0m\u001b[0mos\u001b[0m\u001b[1;33m.\u001b[0m\u001b[0mpath\u001b[0m\u001b[1;33m.\u001b[0m\u001b[0mjoin\u001b[0m\u001b[1;33m(\u001b[0m\u001b[0mpath\u001b[0m\u001b[1;33m,\u001b[0m \u001b[1;34m'02 Data'\u001b[0m\u001b[1;33m,\u001b[0m \u001b[1;34m'Prepared Data'\u001b[0m\u001b[1;33m,\u001b[0m \u001b[1;34m'products_merged.pkl'\u001b[0m\u001b[1;33m)\u001b[0m\u001b[1;33m)\u001b[0m\u001b[1;33m\u001b[0m\u001b[1;33m\u001b[0m\u001b[0m\n\u001b[0m",
      "\u001b[1;32m~\\anaconda3\\lib\\site-packages\\pandas\\io\\pickle.py\u001b[0m in \u001b[0;36mread_pickle\u001b[1;34m(filepath_or_buffer, compression, storage_options)\u001b[0m\n\u001b[0;32m    185\u001b[0m     \"\"\"  # noqa: E501\n\u001b[0;32m    186\u001b[0m     \u001b[0mexcs_to_catch\u001b[0m \u001b[1;33m=\u001b[0m \u001b[1;33m(\u001b[0m\u001b[0mAttributeError\u001b[0m\u001b[1;33m,\u001b[0m \u001b[0mImportError\u001b[0m\u001b[1;33m,\u001b[0m \u001b[0mModuleNotFoundError\u001b[0m\u001b[1;33m,\u001b[0m \u001b[0mTypeError\u001b[0m\u001b[1;33m)\u001b[0m\u001b[1;33m\u001b[0m\u001b[1;33m\u001b[0m\u001b[0m\n\u001b[1;32m--> 187\u001b[1;33m     with get_handle(\n\u001b[0m\u001b[0;32m    188\u001b[0m         \u001b[0mfilepath_or_buffer\u001b[0m\u001b[1;33m,\u001b[0m\u001b[1;33m\u001b[0m\u001b[1;33m\u001b[0m\u001b[0m\n\u001b[0;32m    189\u001b[0m         \u001b[1;34m\"rb\"\u001b[0m\u001b[1;33m,\u001b[0m\u001b[1;33m\u001b[0m\u001b[1;33m\u001b[0m\u001b[0m\n",
      "\u001b[1;32m~\\anaconda3\\lib\\site-packages\\pandas\\io\\common.py\u001b[0m in \u001b[0;36mget_handle\u001b[1;34m(path_or_buf, mode, encoding, compression, memory_map, is_text, errors, storage_options)\u001b[0m\n\u001b[0;32m    793\u001b[0m         \u001b[1;32melse\u001b[0m\u001b[1;33m:\u001b[0m\u001b[1;33m\u001b[0m\u001b[1;33m\u001b[0m\u001b[0m\n\u001b[0;32m    794\u001b[0m             \u001b[1;31m# Binary mode\u001b[0m\u001b[1;33m\u001b[0m\u001b[1;33m\u001b[0m\u001b[0m\n\u001b[1;32m--> 795\u001b[1;33m             \u001b[0mhandle\u001b[0m \u001b[1;33m=\u001b[0m \u001b[0mopen\u001b[0m\u001b[1;33m(\u001b[0m\u001b[0mhandle\u001b[0m\u001b[1;33m,\u001b[0m \u001b[0mioargs\u001b[0m\u001b[1;33m.\u001b[0m\u001b[0mmode\u001b[0m\u001b[1;33m)\u001b[0m\u001b[1;33m\u001b[0m\u001b[1;33m\u001b[0m\u001b[0m\n\u001b[0m\u001b[0;32m    796\u001b[0m         \u001b[0mhandles\u001b[0m\u001b[1;33m.\u001b[0m\u001b[0mappend\u001b[0m\u001b[1;33m(\u001b[0m\u001b[0mhandle\u001b[0m\u001b[1;33m)\u001b[0m\u001b[1;33m\u001b[0m\u001b[1;33m\u001b[0m\u001b[0m\n\u001b[0;32m    797\u001b[0m \u001b[1;33m\u001b[0m\u001b[0m\n",
      "\u001b[1;31mFileNotFoundError\u001b[0m: [Errno 2] No such file or directory: 'C:\\\\Users\\\\sands\\\\Documents\\\\01-2022 Instacart Basket Analysis\\\\02 Data\\\\Prepared Data\\\\products_merged.pkl'"
     ]
    }
   ],
   "source": [
    "# Import the Dataset\n",
    "df_ords_prods_merged = pd.read_pickle(os.path.join(path, '02 Data', 'Prepared Data', 'products_merged.pkl'))"
   ]
  },
  {
   "cell_type": "code",
   "execution_count": null,
   "id": "88acda57",
   "metadata": {},
   "outputs": [],
   "source": [
    "df_ords_prods_merged.head()"
   ]
  },
  {
   "cell_type": "code",
   "execution_count": null,
   "id": "6eb8d9ab",
   "metadata": {},
   "outputs": [],
   "source": [
    "# Create a subset of the dataframe to avoid memory issues\n",
    "df = df_ords_prods_merged[:1000000]"
   ]
  },
  {
   "cell_type": "code",
   "execution_count": null,
   "id": "9e1d3e71",
   "metadata": {},
   "outputs": [],
   "source": [
    "df.shape"
   ]
  },
  {
   "cell_type": "markdown",
   "id": "25918a03",
   "metadata": {},
   "source": [
    "### Using If-else statement "
   ]
  },
  {
   "cell_type": "code",
   "execution_count": null,
   "id": "3249acb6",
   "metadata": {},
   "outputs": [],
   "source": [
    "# Define the function\n",
    "def price_label(row):\n",
    "        if row['prices'] <=5:\n",
    "            return 'Low range product'\n",
    "        elif (row['prices'] > 5) and (row['prices'] <=15):\n",
    "            return 'Mid range product'\n",
    "        elif row['prices'] > 15:\n",
    "            return 'High range product'\n",
    "        else: return 'Not enough Data'"
   ]
  },
  {
   "cell_type": "code",
   "execution_count": null,
   "id": "d3588d66",
   "metadata": {},
   "outputs": [],
   "source": [
    "# Apply the function\n",
    "df['price_range'] = df.apply(price_label, axis=1)"
   ]
  },
  {
   "cell_type": "code",
   "execution_count": null,
   "id": "cb7cd006",
   "metadata": {},
   "outputs": [],
   "source": [
    "df['price_range'].value_counts(dropna = False)"
   ]
  },
  {
   "cell_type": "code",
   "execution_count": null,
   "id": "0fcff030",
   "metadata": {},
   "outputs": [],
   "source": [
    "# Check the maximum price\n",
    "df['prices'].max()"
   ]
  },
  {
   "cell_type": "markdown",
   "id": "415c86b8",
   "metadata": {},
   "source": [
    "### If statements with loc function on the subset"
   ]
  },
  {
   "cell_type": "code",
   "execution_count": null,
   "id": "c6779146",
   "metadata": {},
   "outputs": [],
   "source": [
    "# Create conditional statements using .loc condition\n",
    "df.loc[df['prices'] <= 5, 'price_range_loc'] = 'Low-range product'"
   ]
  },
  {
   "cell_type": "code",
   "execution_count": null,
   "id": "c8b377f1",
   "metadata": {},
   "outputs": [],
   "source": [
    "df.loc[(df['prices'] > 5) & (df['prices'] <= 15), 'price_range_loc'] = 'Mid-range product'"
   ]
  },
  {
   "cell_type": "code",
   "execution_count": null,
   "id": "d1011aec",
   "metadata": {},
   "outputs": [],
   "source": [
    "df.loc[(df['prices'] > 15), 'price_range_loc'] = 'High-range product'"
   ]
  },
  {
   "cell_type": "code",
   "execution_count": null,
   "id": "3372d1f4",
   "metadata": {},
   "outputs": [],
   "source": [
    "df['price_range_loc'].value_counts(dropna= False)"
   ]
  },
  {
   "cell_type": "markdown",
   "id": "6c27e80c",
   "metadata": {},
   "source": [
    "### Run it on the entire population "
   ]
  },
  {
   "cell_type": "code",
   "execution_count": null,
   "id": "5af440ff",
   "metadata": {},
   "outputs": [],
   "source": [
    "df_ords_prods_merged.loc[df_ords_prods_merged['prices'] <= 5, 'prices_range_loc'] = 'Low-range product'"
   ]
  },
  {
   "cell_type": "code",
   "execution_count": null,
   "id": "cd729ec2",
   "metadata": {},
   "outputs": [],
   "source": [
    "df_ords_prods_merged.loc[(df_ords_prods_merged['prices'] > 5) & (df_ords_prods_merged['prices'] <= 15), 'prices_range_loc'] = 'Mid-range product'"
   ]
  },
  {
   "cell_type": "code",
   "execution_count": null,
   "id": "dd3ce0ad",
   "metadata": {},
   "outputs": [],
   "source": [
    "df_ords_prods_merged.loc[(df_ords_prods_merged['prices'] > 15), 'prices_range_loc'] = 'High-range product'"
   ]
  },
  {
   "cell_type": "code",
   "execution_count": null,
   "id": "ff3ae682",
   "metadata": {},
   "outputs": [],
   "source": [
    "df_ords_prods_merged['prices_range_loc'].value_counts(dropna= False)"
   ]
  },
  {
   "cell_type": "code",
   "execution_count": null,
   "id": "364b1fd9",
   "metadata": {},
   "outputs": [],
   "source": [
    "price_vs_dept = pd.crosstab(df_1['department_id'],df_1['prices_range_loc'])"
   ]
  },
  {
   "cell_type": "markdown",
   "id": "881dca40",
   "metadata": {},
   "source": [
    "### If-Statements with For-Loops"
   ]
  },
  {
   "cell_type": "code",
   "execution_count": null,
   "id": "99f871ee",
   "metadata": {},
   "outputs": [],
   "source": [
    "df_ords_prods_merged['order_dow'].value_counts(dropna = False)"
   ]
  },
  {
   "cell_type": "code",
   "execution_count": null,
   "id": "e0e870d8",
   "metadata": {},
   "outputs": [],
   "source": [
    "# Create a new column for the busiest days of the week\n",
    "result = []\n",
    "\n",
    "for value in df_ords_prods_merged['order_dow']:\n",
    "    if value == 0:\n",
    "        result.append(\"Busiest day\")\n",
    "    elif value == 4:\n",
    "        result.append(\"Least busy\")\n",
    "    else:\n",
    "         result.append(\"Regularly busy\")"
   ]
  },
  {
   "cell_type": "code",
   "execution_count": null,
   "id": "cc51750e",
   "metadata": {},
   "outputs": [],
   "source": [
    "result"
   ]
  },
  {
   "cell_type": "code",
   "execution_count": null,
   "id": "175da7d3",
   "metadata": {},
   "outputs": [],
   "source": [
    "# Create a new column to store this result\n",
    "df_ords_prods_merged['busiest day'] = result"
   ]
  },
  {
   "cell_type": "code",
   "execution_count": null,
   "id": "6f41a703",
   "metadata": {},
   "outputs": [],
   "source": [
    "# Count the number\n",
    "df_ords_prods_merged['busiest day'].value_counts(dropna = False)"
   ]
  },
  {
   "cell_type": "code",
   "execution_count": null,
   "id": "13d7b5cf",
   "metadata": {},
   "outputs": [],
   "source": [
    "# Rename the orders_dow column\n",
    "df_ords_prods_merged.rename(columns = {'order_dow' : 'orders_day_of_week'}, inplace = True)"
   ]
  },
  {
   "cell_type": "code",
   "execution_count": null,
   "id": "d7934184",
   "metadata": {},
   "outputs": [],
   "source": [
    "df_ords_prods_merged.head()"
   ]
  },
  {
   "cell_type": "markdown",
   "id": "e7be23a1",
   "metadata": {},
   "source": [
    "# Exercise 4.7 Answers: "
   ]
  },
  {
   "cell_type": "markdown",
   "id": "c064f424",
   "metadata": {},
   "source": [
    "### 2. Suppose your clients have changed their minds about the labels you created in your “busiest_day” column. Now, they want “Busiest day” to become “Busiest days” (plural). This label should correspond with the two busiest days of the week as opposed to the single busiest day. At the same time, they’d also like to know the two slowest days. Create a new column for this using a suitable method."
   ]
  },
  {
   "cell_type": "code",
   "execution_count": null,
   "id": "2c7d483b",
   "metadata": {},
   "outputs": [],
   "source": [
    "# Frequency Check\n",
    "df_ords_prods_merged['orders_day_of_week'].value_counts(dropna = False)"
   ]
  },
  {
   "cell_type": "code",
   "execution_count": null,
   "id": "c5e1b85b",
   "metadata": {},
   "outputs": [],
   "source": [
    "# Rename the busiest day column\n",
    "df_ords_prods_merged.rename(columns = {'busiest day' : 'busiest days'}, inplace = True)"
   ]
  },
  {
   "cell_type": "code",
   "execution_count": null,
   "id": "1908bfe0",
   "metadata": {},
   "outputs": [],
   "source": [
    "# Write a new function to assign the 2 busiest days and 2 slowest days\n",
    "result = []\n",
    "\n",
    "for value in df_ords_prods_merged['orders_day_of_week']:\n",
    "    if value == 0 or value == 1:\n",
    "        result.append(\"Busiest day\")\n",
    "    elif value == 4 or value == 3:\n",
    "        result.append(\"Least busy\")\n",
    "    else:\n",
    "         result.append(\"Regularly busy\")"
   ]
  },
  {
   "cell_type": "code",
   "execution_count": null,
   "id": "64db65a1",
   "metadata": {},
   "outputs": [],
   "source": [
    "# Store this result\n",
    "df_ords_prods_merged['busiest days'] = result"
   ]
  },
  {
   "cell_type": "code",
   "execution_count": null,
   "id": "dc9c0b91",
   "metadata": {},
   "outputs": [],
   "source": [
    "# Frequency Check\n",
    "df_ords_prods_merged['busiest days'].value_counts(dropna = False)"
   ]
  },
  {
   "cell_type": "markdown",
   "id": "88eed90e",
   "metadata": {},
   "source": [
    "### 3. The number of busiest and least busy days has doubled and regularly busy has halved"
   ]
  },
  {
   "cell_type": "markdown",
   "id": "3529da9f",
   "metadata": {},
   "source": [
    "### 4.\tWhen too many users make Instacart orders at the same time, the app freezes. The senior technical officer at Instacart wants you to identify the busiest hours of the day. Rather than by hour, they want periods of time labeled “Most orders,” “Average orders,” and “Fewest orders.” Create a new column containing these labels called “busiest_period_of_day.”"
   ]
  },
  {
   "cell_type": "code",
   "execution_count": null,
   "id": "2e5ed16c",
   "metadata": {},
   "outputs": [],
   "source": [
    "# Frequency Check\n",
    "df_ords_prods_merged['order_hour_of_day'].value_counts(dropna = False)"
   ]
  },
  {
   "cell_type": "code",
   "execution_count": null,
   "id": "bf6f7108",
   "metadata": {},
   "outputs": [],
   "source": [
    "# Write a new function to label the busiest hours(9-16) and least busy(before 6)\n",
    "result = []\n",
    "\n",
    "for value in df_ords_prods_merged['order_hour_of_day']:\n",
    "    if value >= 9 and value <= 16:\n",
    "        result.append(\"Most Orders\")\n",
    "    elif value <= 6:\n",
    "        result.append(\"Fewest Orders\")\n",
    "    else:\n",
    "         result.append(\"Average Orders\")"
   ]
  },
  {
   "cell_type": "code",
   "execution_count": null,
   "id": "f5f8fda1",
   "metadata": {},
   "outputs": [],
   "source": [
    "result"
   ]
  },
  {
   "cell_type": "code",
   "execution_count": null,
   "id": "c348a0f2",
   "metadata": {},
   "outputs": [],
   "source": [
    "# Store this result\n",
    "df_ords_prods_merged['busiest_period_of_day'] = result"
   ]
  },
  {
   "cell_type": "markdown",
   "id": "16f984ec",
   "metadata": {},
   "source": [
    "### 5.\tPrint the frequency for this new column"
   ]
  },
  {
   "cell_type": "code",
   "execution_count": null,
   "id": "a3ea00dc",
   "metadata": {},
   "outputs": [],
   "source": [
    "df_ords_prods_merged['busiest_period_of_day'].value_counts(dropna = False)"
   ]
  },
  {
   "cell_type": "markdown",
   "id": "23cacd88",
   "metadata": {},
   "source": [
    "### 7.\tExport your dataframe as a pickle file (since you added new columns) and store it correctly in your “Prepared Data” folder."
   ]
  },
  {
   "cell_type": "code",
   "execution_count": null,
   "id": "3779db3d",
   "metadata": {},
   "outputs": [],
   "source": [
    "# Export to pickle\n",
    "df_ords_prods_merged.to_pickle(os.path.join(path, '02 Data','Prepared Data', 'orders_products_merge_0120.pkl'))"
   ]
  }
 ],
 "metadata": {
  "kernelspec": {
   "display_name": "Python 3 (ipykernel)",
   "language": "python",
   "name": "python3"
  },
  "language_info": {
   "codemirror_mode": {
    "name": "ipython",
    "version": 3
   },
   "file_extension": ".py",
   "mimetype": "text/x-python",
   "name": "python",
   "nbconvert_exporter": "python",
   "pygments_lexer": "ipython3",
   "version": "3.9.13"
  }
 },
 "nbformat": 4,
 "nbformat_minor": 5
}
